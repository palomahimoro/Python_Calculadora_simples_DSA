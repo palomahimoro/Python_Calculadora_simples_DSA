{
 "cells": [
  {
   "cell_type": "code",
   "execution_count": 7,
   "id": "cb7425c5",
   "metadata": {},
   "outputs": [
    {
     "name": "stdout",
     "output_type": "stream",
     "text": [
      "Calculadora em Python\n",
      "Digite o primeiro número 1\n",
      "Selecione o segundo número da operação desejada: 2\n",
      "Selecione uma operação (+, -, *, /): +\n",
      "O resultado é:  3.0\n"
     ]
    }
   ],
   "source": [
    "print(\"Calculadora em Python\")\n",
    "\n",
    "numero_1 = float(input('Digite o primeiro número '))\n",
    "\n",
    "numero_2 = float(input('Selecione o segundo número da operação desejada: '))\n",
    "\n",
    "operacao = input(\"Selecione uma operação (+, -, *, /): \")\n",
    "\n",
    "if operacao == \"+\":\n",
    " resultado = numero_1 + numero_2\n",
    " print(\"O resultado é: \", resultado)\n",
    "\n",
    "elif operacao == \"-\":\n",
    "    \n",
    " resultado = numero_1 - numero_2\n",
    " print(\"O resultado é: \", resultado)\n",
    "\n",
    "elif operacao == \"*\":\n",
    "\n",
    " resultado = numero_1 * numero_2\n",
    " print(\"O resultado é: \", resultado)\n",
    "\n",
    "elif operacao == \"/\":\n",
    "\n",
    " resultado = numero_1 / numero_2\n",
    " print(\"O resultado é: \", resultado)\n",
    "\n",
    "else:\n",
    " print(\"Operação inválida.\")"
   ]
  },
  {
   "cell_type": "code",
   "execution_count": null,
   "id": "c4774628",
   "metadata": {},
   "outputs": [],
   "source": []
  }
 ],
 "metadata": {
  "kernelspec": {
   "display_name": "Python 3 (ipykernel)",
   "language": "python",
   "name": "python3"
  },
  "language_info": {
   "codemirror_mode": {
    "name": "ipython",
    "version": 3
   },
   "file_extension": ".py",
   "mimetype": "text/x-python",
   "name": "python",
   "nbconvert_exporter": "python",
   "pygments_lexer": "ipython3",
   "version": "3.9.13"
  }
 },
 "nbformat": 4,
 "nbformat_minor": 5
}
